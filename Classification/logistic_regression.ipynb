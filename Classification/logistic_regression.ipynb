{
 "cells": [
  {
   "cell_type": "code",
   "execution_count": 25,
   "metadata": {},
   "outputs": [],
   "source": [
    "import matplotlib.pyplot as plt\n",
    "import pandas as pd\n",
    "import seaborn as sns\n",
    "import numpy as np\n",
    "from sklearn.pipeline import Pipeline\n",
    "from sklearn.datasets import make_classification\n",
    "from sklearn.model_selection import train_test_split\n",
    "from sklearn.linear_model import LinearRegression, LogisticRegression\n",
    "from category_encoders import OrdinalEncoder\n",
    "from sklearn.metrics import roc_auc_score\n",
    "from sklearn.metrics import classification_report, recall_score, precision_score, f1_score\n",
    "from sklearn.metrics import roc_curve"
   ]
  },
  {
   "cell_type": "markdown",
   "metadata": {},
   "source": [
    "### Logistic Regression\n",
    "\n",
    "일반적인 선형함수에 시그모이드 함수를 씌운 것\n",
    "- $ \\sigma(x) = \\frac{1}{1 + e^{-x}}$ 시그모이드(활성화 함수)\n",
    "\n",
    "일반적인 선형함수 Wx + b 의 경우 결과값이 $-\\infty$ ~ $+\\infty$ 지만\n",
    "\n",
    "시그모이드 함수를 씌우면 결과값이 0 과 1 사이의 '확률'★ 을 가지게 됩니다.\n",
    "$$\\large P(Y=1|X=x)={\\frac {1}{1+e^{-(\\beta _{0}+\\beta _{1}X_{1}+\\cdots +\\beta _{p}X_{p})}}}$$\n",
    "$$ 0 \\leq P(Y=1|X=x) \\leq 1$$\n",
    "\n",
    "위의 식은 시그모이드에 선형회귀식을 대입한 결과인데, 매우 복잡하여 그림으로 이해해보겠습니다."
   ]
  },
  {
   "cell_type": "code",
   "execution_count": 9,
   "metadata": {},
   "outputs": [
    {
     "data": {
      "image/png": "[encoded data removed]",
      "text/plain": [
       "<Figure size 1152x432 with 2 Axes>"
      ]
     },
     "metadata": {
      "needs_background": "light"
     },
     "output_type": "display_data"
    }
   ],
   "source": [
    "X, y = make_classification(n_samples=10000, n_features=10, random_state=42)\n",
    "X = pd.DataFrame(data=X)\n",
    "\n",
    "fig = plt.figure(figsize=(16, 6))\n",
    "ax1 = fig.add_subplot(121)\n",
    "ax1.scatter(x=X[4], y=y)\n",
    "\n",
    "# linear regression\n",
    "ls = LinearRegression()\n",
    "ls.fit(X[[4]], y)\n",
    "X['y_pred_lr'] = ls.predict(X[[4]])\n",
    "ax1.scatter(X[4], X['y_pred_lr'], s = 0.5, color='red', alpha=0.5)\n",
    "ax1.set_ylabel('output of model')\n",
    "ax1.set_xlabel('input data')\n",
    "ax1.set_title('Linear Regression')\n",
    "\n",
    "# logistic regression\n",
    "ax2 = fig.add_subplot(122)\n",
    "ax2.scatter(x=X[4], y=y)\n",
    "\n",
    "lr = LogisticRegression()\n",
    "lr.fit(X[[4]], y)\n",
    "\n",
    "X['y_pred_proba'] = lr.predict_proba(X[[4]])[:,1]\n",
    "ax2.scatter(X[4], X['y_pred_proba'], s = 0.5, color='red', alpha=0.5)\n",
    "ax2.axhline(0.5, color='orange')\n",
    "ax2.text(0.5, 0.5, 'threshold=0.5')\n",
    "ax2.set_ylabel('output of model')\n",
    "ax2.set_xlabel('input data')\n",
    "ax2.set_title('Logistic Regression')\n",
    "\n",
    "plt.show()"
   ]
  },
  {
   "cell_type": "markdown",
   "metadata": {},
   "source": [
    "위 의 그림 자료들과 같이 선형회귀에 시그모이드 함수를 씌웠더니 결과값이 0 ~ 1 로 줄어든 것을 확인할 수 있습니다.\n",
    "\n",
    "Treshold를 0.5 로 잡았을 때 출력값이 0.5 보다 작다면 0을 출력하고, 0.5보다 크다면 1을 출력합니다. (분류)"
   ]
  },
  {
   "cell_type": "code",
   "execution_count": 12,
   "metadata": {},
   "outputs": [
    {
     "data": {
      "text/html": [
       "<div>\n",
       "<style scoped>\n",
       "    .dataframe tbody tr th:only-of-type {\n",
       "        vertical-align: middle;\n",
       "    }\n",
       "\n",
       "    .dataframe tbody tr th {\n",
       "        vertical-align: top;\n",
       "    }\n",
       "\n",
       "    .dataframe thead th {\n",
       "        text-align: right;\n",
       "    }\n",
       "</style>\n",
       "<table border=\"1\" class=\"dataframe\">\n",
       "  <thead>\n",
       "    <tr style=\"text-align: right;\">\n",
       "      <th></th>\n",
       "      <th>probability of 1</th>\n",
       "      <th>Prediction</th>\n",
       "    </tr>\n",
       "  </thead>\n",
       "  <tbody>\n",
       "    <tr>\n",
       "      <th>0</th>\n",
       "      <td>0.770792</td>\n",
       "      <td>1</td>\n",
       "    </tr>\n",
       "    <tr>\n",
       "      <th>1</th>\n",
       "      <td>0.718633</td>\n",
       "      <td>1</td>\n",
       "    </tr>\n",
       "    <tr>\n",
       "      <th>2</th>\n",
       "      <td>0.911778</td>\n",
       "      <td>1</td>\n",
       "    </tr>\n",
       "    <tr>\n",
       "      <th>3</th>\n",
       "      <td>0.974705</td>\n",
       "      <td>1</td>\n",
       "    </tr>\n",
       "    <tr>\n",
       "      <th>4</th>\n",
       "      <td>0.761530</td>\n",
       "      <td>1</td>\n",
       "    </tr>\n",
       "    <tr>\n",
       "      <th>...</th>\n",
       "      <td>...</td>\n",
       "      <td>...</td>\n",
       "    </tr>\n",
       "    <tr>\n",
       "      <th>9995</th>\n",
       "      <td>0.781462</td>\n",
       "      <td>1</td>\n",
       "    </tr>\n",
       "    <tr>\n",
       "      <th>9996</th>\n",
       "      <td>0.199444</td>\n",
       "      <td>0</td>\n",
       "    </tr>\n",
       "    <tr>\n",
       "      <th>9997</th>\n",
       "      <td>0.119481</td>\n",
       "      <td>0</td>\n",
       "    </tr>\n",
       "    <tr>\n",
       "      <th>9998</th>\n",
       "      <td>0.059129</td>\n",
       "      <td>0</td>\n",
       "    </tr>\n",
       "    <tr>\n",
       "      <th>9999</th>\n",
       "      <td>0.071146</td>\n",
       "      <td>0</td>\n",
       "    </tr>\n",
       "  </tbody>\n",
       "</table>\n",
       "<p>10000 rows × 2 columns</p>\n",
       "</div>"
      ],
      "text/plain": [
       "      probability of 1  Prediction\n",
       "0             0.770792           1\n",
       "1             0.718633           1\n",
       "2             0.911778           1\n",
       "3             0.974705           1\n",
       "4             0.761530           1\n",
       "...                ...         ...\n",
       "9995          0.781462           1\n",
       "9996          0.199444           0\n",
       "9997          0.119481           0\n",
       "9998          0.059129           0\n",
       "9999          0.071146           0\n",
       "\n",
       "[10000 rows x 2 columns]"
      ]
     },
     "execution_count": 12,
     "metadata": {},
     "output_type": "execute_result"
    }
   ],
   "source": [
    "returns = pd.DataFrame(data = {'probability of 1': lr.predict_proba(X[[4]])[:,1], 'Prediction':lr.predict(X[[4]])})\n",
    "returns"
   ]
  },
  {
   "cell_type": "markdown",
   "metadata": {},
   "source": [
    "실제로도 확률이 0.5인 treshold보다 크다면 1을 출력하고 작으면 0을 출력하는 것을 확인할 수 있습니다."
   ]
  },
  {
   "cell_type": "markdown",
   "metadata": {},
   "source": [
    "### odds, logit\n",
    "\n",
    "대표적인 예시로 동전 던지기(베르누이 분포)가 있다.\n",
    "\n",
    "$\\theta$ = [0, 1] 사이의 성공 확률 일 때,\n",
    "\n",
    "$P(y | \\theta) = Ber(y|\\theta) -> (\\theta , y = 1) , (1 - \\theta , y = 0)$ \n",
    "\n",
    "위 식을 뜯어보면 성공확률이 세타라면 y는 1의 값을 갖고, 실패확률이 1 - 세타라면 y 값은 0을 갖는 다는 식이다"
   ]
  },
  {
   "cell_type": "markdown",
   "metadata": {},
   "source": [
    "odds 는 실패 확률 대비 성공 확률을 의미한다. \n",
    "\n",
    "$ Odds(\\theta) =  \\frac{\\theta}{1 - \\theta}$ 항상 양수의 값이 나오겠다.\n",
    "\n",
    "logit은 odds에 로그를 씌운 것이다. odds가 항상 양수이기에 가능. (진수조건)\n",
    "\n",
    "$ logodds(\\theta) = log(\\frac{\\theta}{1 - \\theta}) -> log\\theta - log(1 - \\theta) $ 로 표현할 수 있다.\n",
    "\n",
    "$ logit(\\theta) = \\eta 면, \\theta = \\sigma(\\eta) = \\frac{1}{1+ \\exp(-\\eta)}  $ 라고 표현할 수 있다.\n",
    "\n",
    "위 식에서 $ \\sigma(\\eta) $ 를 \"시그모이드 함수\" 라고 한다.\n",
    "\n",
    "$n(이타) = \\omega_{0} + \\omega_{1}x_{1} + \\omega_{2}x_{2} + ... +\\omega_{n}x_{n}$\n",
    "\n",
    "\n",
    "우리가 많이 봐온 선형 모델 식이다. 이타는 가중치 W 와 속성 x의 inner product 이다.\n",
    "\n",
    "x가 x1, x2, x3, ... xn 으로 이루어진 행렬이고, W 도 W1, W2, W3, ... , Wn 으로 이루어진 행렬이다.\n",
    "\n",
    "이 때 이타는 두 행렬의 곱인 < w , x > 이다. note (W 와 x 는 원소가 아님. 행렬임에 유의)\n",
    "\n",
    "$ y_{n} = \\omega_{0} + \\omega_{1}x_{1} + \\omega_{2}x_{2} + \\epsilon $ 이 식에서\n",
    "\n",
    "$ \\epsilon $ 은 관측 불가능한 속성의 오차값, $ \\omega_{0} $ 는 bias 다.\n",
    "\n",
    "예를 들어서 설명을 해보면, 올리브영에서 상품을 살 확률을 위의 식으로 구해본다면,\n",
    "\n",
    "x1 = 월 소득, x2 = 성별 (여자1, 남자0)\n",
    "\n",
    "가중치는 W0 = 0.5, W1 = -0.01, W2 = 1.1 이라 하자.\n",
    "\n",
    "이 때 월 소득이 200 만원인 여자가 올리브 영에서 물건을 살 확률을 계산해보면,\n",
    "\n",
    "0.08 -> 8% 가 나온다.\n",
    "\n",
    "이를 통해서 우리는 로지스틱 회귀는 분류기이고, 확률로 결과를 도출하기 때문에 해석이 쉽다는 장점이 있다.\n",
    "\n",
    "2 개 이상의 분류에도 사용 가능하고, 비 선형적이여도 적용 가능하다.\n"
   ]
  },
  {
   "cell_type": "code",
   "execution_count": 13,
   "metadata": {},
   "outputs": [],
   "source": [
    "df = pd.read_csv('https://ds-lecture-data.s3.ap-northeast-2.amazonaws.com/heart_2020_cleaned.csv')"
   ]
  },
  {
   "cell_type": "code",
   "execution_count": 15,
   "metadata": {},
   "outputs": [],
   "source": [
    "df['HeartDisease'] = df['HeartDisease'].replace({'No':0, 'Yes':1})\n",
    "\n",
    "y = df['HeartDisease']\n",
    "X = df.drop('HeartDisease', axis=1)\n",
    "\n",
    "X_train, X_test, y_train, y_test = train_test_split(X, y,  random_state=42, stratify=y)\n",
    "X_train, X_val, y_train, y_val = train_test_split(X_train, y_train, random_state=42, stratify=y_train)"
   ]
  },
  {
   "cell_type": "code",
   "execution_count": 16,
   "metadata": {},
   "outputs": [],
   "source": [
    "# mode(): Return the highest frequency value in a Series.\n",
    "base_major = y_train.mode()[0]\n",
    "y_pred_base = [base_major] * len(y_train)"
   ]
  },
  {
   "cell_type": "code",
   "execution_count": 22,
   "metadata": {},
   "outputs": [
    {
     "name": "stderr",
     "output_type": "stream",
     "text": [
      "c:\\Python310\\lib\\site-packages\\sklearn\\linear_model\\_logistic.py:1106: UserWarning: l1_ratio parameter is only used when penalty is 'elasticnet'. Got (penalty=l2)\n",
      "  warnings.warn(\n"
     ]
    },
    {
     "data": {
      "text/html": [
       "<style>#sk-container-id-1 {color: black;background-color: white;}#sk-container-id-1 pre{padding: 0;}#sk-container-id-1 div.sk-toggleable {background-color: white;}#sk-container-id-1 label.sk-toggleable__label {cursor: pointer;display: block;width: 100%;margin-bottom: 0;padding: 0.3em;box-sizing: border-box;text-align: center;}#sk-container-id-1 label.sk-toggleable__label-arrow:before {content: \"▸\";float: left;margin-right: 0.25em;color: #696969;}#sk-container-id-1 label.sk-toggleable__label-arrow:hover:before {color: black;}#sk-container-id-1 div.sk-estimator:hover label.sk-toggleable__label-arrow:before {color: black;}#sk-container-id-1 div.sk-toggleable__content {max-height: 0;max-width: 0;overflow: hidden;text-align: left;background-color: #f0f8ff;}#sk-container-id-1 div.sk-toggleable__content pre {margin: 0.2em;color: black;border-radius: 0.25em;background-color: #f0f8ff;}#sk-container-id-1 input.sk-toggleable__control:checked~div.sk-toggleable__content {max-height: 200px;max-width: 100%;overflow: auto;}#sk-container-id-1 input.sk-toggleable__control:checked~label.sk-toggleable__label-arrow:before {content: \"▾\";}#sk-container-id-1 div.sk-estimator input.sk-toggleable__control:checked~label.sk-toggleable__label {background-color: #d4ebff;}#sk-container-id-1 div.sk-label input.sk-toggleable__control:checked~label.sk-toggleable__label {background-color: #d4ebff;}#sk-container-id-1 input.sk-hidden--visually {border: 0;clip: rect(1px 1px 1px 1px);clip: rect(1px, 1px, 1px, 1px);height: 1px;margin: -1px;overflow: hidden;padding: 0;position: absolute;width: 1px;}#sk-container-id-1 div.sk-estimator {font-family: monospace;background-color: #f0f8ff;border: 1px dotted black;border-radius: 0.25em;box-sizing: border-box;margin-bottom: 0.5em;}#sk-container-id-1 div.sk-estimator:hover {background-color: #d4ebff;}#sk-container-id-1 div.sk-parallel-item::after {content: \"\";width: 100%;border-bottom: 1px solid gray;flex-grow: 1;}#sk-container-id-1 div.sk-label:hover label.sk-toggleable__label {background-color: #d4ebff;}#sk-container-id-1 div.sk-serial::before {content: \"\";position: absolute;border-left: 1px solid gray;box-sizing: border-box;top: 0;bottom: 0;left: 50%;z-index: 0;}#sk-container-id-1 div.sk-serial {display: flex;flex-direction: column;align-items: center;background-color: white;padding-right: 0.2em;padding-left: 0.2em;position: relative;}#sk-container-id-1 div.sk-item {position: relative;z-index: 1;}#sk-container-id-1 div.sk-parallel {display: flex;align-items: stretch;justify-content: center;background-color: white;position: relative;}#sk-container-id-1 div.sk-item::before, #sk-container-id-1 div.sk-parallel-item::before {content: \"\";position: absolute;border-left: 1px solid gray;box-sizing: border-box;top: 0;bottom: 0;left: 50%;z-index: -1;}#sk-container-id-1 div.sk-parallel-item {display: flex;flex-direction: column;z-index: 1;position: relative;background-color: white;}#sk-container-id-1 div.sk-parallel-item:first-child::after {align-self: flex-end;width: 50%;}#sk-container-id-1 div.sk-parallel-item:last-child::after {align-self: flex-start;width: 50%;}#sk-container-id-1 div.sk-parallel-item:only-child::after {width: 0;}#sk-container-id-1 div.sk-dashed-wrapped {border: 1px dashed gray;margin: 0 0.4em 0.5em 0.4em;box-sizing: border-box;padding-bottom: 0.4em;background-color: white;}#sk-container-id-1 div.sk-label label {font-family: monospace;font-weight: bold;display: inline-block;line-height: 1.2em;}#sk-container-id-1 div.sk-label-container {text-align: center;}#sk-container-id-1 div.sk-container {/* jupyter's `normalize.less` sets `[hidden] { display: none; }` but bootstrap.min.css set `[hidden] { display: none !important; }` so we also need the `!important` here to be able to override the default hidden behavior on the sphinx rendered scikit-learn.org. See: https://github.com/scikit-learn/scikit-learn/issues/21755 */display: inline-block !important;position: relative;}#sk-container-id-1 div.sk-text-repr-fallback {display: none;}</style><div id=\"sk-container-id-1\" class=\"sk-top-container\"><div class=\"sk-text-repr-fallback\"><pre>Pipeline(steps=[(&#x27;ordinalencoder&#x27;,\n",
       "                 OrdinalEncoder(cols=[&#x27;Smoking&#x27;, &#x27;AlcoholDrinking&#x27;, &#x27;Stroke&#x27;,\n",
       "                                      &#x27;DiffWalking&#x27;, &#x27;Sex&#x27;, &#x27;AgeCategory&#x27;,\n",
       "                                      &#x27;Race&#x27;, &#x27;Diabetic&#x27;, &#x27;PhysicalActivity&#x27;,\n",
       "                                      &#x27;GenHealth&#x27;, &#x27;Asthma&#x27;, &#x27;KidneyDisease&#x27;,\n",
       "                                      &#x27;SkinCancer&#x27;],\n",
       "                                mapping=[{&#x27;col&#x27;: &#x27;Smoking&#x27;,\n",
       "                                          &#x27;data_type&#x27;: dtype(&#x27;O&#x27;),\n",
       "                                          &#x27;mapping&#x27;: Yes    1\n",
       "No     2\n",
       "NaN   -2\n",
       "dtype: int64},\n",
       "                                         {&#x27;col&#x27;: &#x27;AlcoholDrinking&#x27;,\n",
       "                                          &#x27;data_type&#x27;: dtype(&#x27;O&#x27;),\n",
       "                                          &#x27;map...\n",
       "dtype: int64},\n",
       "                                         {&#x27;col&#x27;: &#x27;Asthma&#x27;,\n",
       "                                          &#x27;data_type&#x27;: dtype(&#x27;O&#x27;),\n",
       "                                          &#x27;mapping&#x27;: No     1\n",
       "Yes    2\n",
       "NaN   -2\n",
       "dtype: int64},\n",
       "                                         {&#x27;col&#x27;: &#x27;KidneyDisease&#x27;,\n",
       "                                          &#x27;data_type&#x27;: dtype(&#x27;O&#x27;),\n",
       "                                          &#x27;mapping&#x27;: No     1\n",
       "Yes    2\n",
       "NaN   -2\n",
       "dtype: int64},\n",
       "                                         {&#x27;col&#x27;: &#x27;SkinCancer&#x27;,\n",
       "                                          &#x27;data_type&#x27;: dtype(&#x27;O&#x27;),\n",
       "                                          &#x27;mapping&#x27;: Yes    1\n",
       "No     2\n",
       "NaN   -2\n",
       "dtype: int64}])),\n",
       "                (&#x27;logisticregression&#x27;,\n",
       "                 LogisticRegression(class_weight=&#x27;balanced&#x27;, l1_ratio=0.01,\n",
       "                                    n_jobs=-1, random_state=42))])</pre><b>In a Jupyter environment, please rerun this cell to show the HTML representation or trust the notebook. <br />On GitHub, the HTML representation is unable to render, please try loading this page with nbviewer.org.</b></div><div class=\"sk-container\" hidden><div class=\"sk-item sk-dashed-wrapped\"><div class=\"sk-label-container\"><div class=\"sk-label sk-toggleable\"><input class=\"sk-toggleable__control sk-hidden--visually\" id=\"sk-estimator-id-1\" type=\"checkbox\" ><label for=\"sk-estimator-id-1\" class=\"sk-toggleable__label sk-toggleable__label-arrow\">Pipeline</label><div class=\"sk-toggleable__content\"><pre>Pipeline(steps=[(&#x27;ordinalencoder&#x27;,\n",
       "                 OrdinalEncoder(cols=[&#x27;Smoking&#x27;, &#x27;AlcoholDrinking&#x27;, &#x27;Stroke&#x27;,\n",
       "                                      &#x27;DiffWalking&#x27;, &#x27;Sex&#x27;, &#x27;AgeCategory&#x27;,\n",
       "                                      &#x27;Race&#x27;, &#x27;Diabetic&#x27;, &#x27;PhysicalActivity&#x27;,\n",
       "                                      &#x27;GenHealth&#x27;, &#x27;Asthma&#x27;, &#x27;KidneyDisease&#x27;,\n",
       "                                      &#x27;SkinCancer&#x27;],\n",
       "                                mapping=[{&#x27;col&#x27;: &#x27;Smoking&#x27;,\n",
       "                                          &#x27;data_type&#x27;: dtype(&#x27;O&#x27;),\n",
       "                                          &#x27;mapping&#x27;: Yes    1\n",
       "No     2\n",
       "NaN   -2\n",
       "dtype: int64},\n",
       "                                         {&#x27;col&#x27;: &#x27;AlcoholDrinking&#x27;,\n",
       "                                          &#x27;data_type&#x27;: dtype(&#x27;O&#x27;),\n",
       "                                          &#x27;map...\n",
       "dtype: int64},\n",
       "                                         {&#x27;col&#x27;: &#x27;Asthma&#x27;,\n",
       "                                          &#x27;data_type&#x27;: dtype(&#x27;O&#x27;),\n",
       "                                          &#x27;mapping&#x27;: No     1\n",
       "Yes    2\n",
       "NaN   -2\n",
       "dtype: int64},\n",
       "                                         {&#x27;col&#x27;: &#x27;KidneyDisease&#x27;,\n",
       "                                          &#x27;data_type&#x27;: dtype(&#x27;O&#x27;),\n",
       "                                          &#x27;mapping&#x27;: No     1\n",
       "Yes    2\n",
       "NaN   -2\n",
       "dtype: int64},\n",
       "                                         {&#x27;col&#x27;: &#x27;SkinCancer&#x27;,\n",
       "                                          &#x27;data_type&#x27;: dtype(&#x27;O&#x27;),\n",
       "                                          &#x27;mapping&#x27;: Yes    1\n",
       "No     2\n",
       "NaN   -2\n",
       "dtype: int64}])),\n",
       "                (&#x27;logisticregression&#x27;,\n",
       "                 LogisticRegression(class_weight=&#x27;balanced&#x27;, l1_ratio=0.01,\n",
       "                                    n_jobs=-1, random_state=42))])</pre></div></div></div><div class=\"sk-serial\"><div class=\"sk-item\"><div class=\"sk-estimator sk-toggleable\"><input class=\"sk-toggleable__control sk-hidden--visually\" id=\"sk-estimator-id-2\" type=\"checkbox\" ><label for=\"sk-estimator-id-2\" class=\"sk-toggleable__label sk-toggleable__label-arrow\">OrdinalEncoder</label><div class=\"sk-toggleable__content\"><pre>OrdinalEncoder(cols=[&#x27;Smoking&#x27;, &#x27;AlcoholDrinking&#x27;, &#x27;Stroke&#x27;, &#x27;DiffWalking&#x27;,\n",
       "                     &#x27;Sex&#x27;, &#x27;AgeCategory&#x27;, &#x27;Race&#x27;, &#x27;Diabetic&#x27;,\n",
       "                     &#x27;PhysicalActivity&#x27;, &#x27;GenHealth&#x27;, &#x27;Asthma&#x27;, &#x27;KidneyDisease&#x27;,\n",
       "                     &#x27;SkinCancer&#x27;],\n",
       "               mapping=[{&#x27;col&#x27;: &#x27;Smoking&#x27;, &#x27;data_type&#x27;: dtype(&#x27;O&#x27;),\n",
       "                         &#x27;mapping&#x27;: Yes    1\n",
       "No     2\n",
       "NaN   -2\n",
       "dtype: int64},\n",
       "                        {&#x27;col&#x27;: &#x27;AlcoholDrinking&#x27;, &#x27;data_type&#x27;: dtype(&#x27;O&#x27;),\n",
       "                         &#x27;mapping&#x27;: No     1\n",
       "Yes    2\n",
       "NaN   -2\n",
       "dtype: int64},\n",
       "                        {&#x27;c...\n",
       "dtype: int64},\n",
       "                        {&#x27;col&#x27;: &#x27;GenHealth&#x27;, &#x27;data_type&#x27;: dtype(&#x27;O&#x27;),\n",
       "                         &#x27;mapping&#x27;: Excellent    1\n",
       "Good         2\n",
       "Very good    3\n",
       "Fair         4\n",
       "Poor         5\n",
       "NaN         -2\n",
       "dtype: int64},\n",
       "                        {&#x27;col&#x27;: &#x27;Asthma&#x27;, &#x27;data_type&#x27;: dtype(&#x27;O&#x27;),\n",
       "                         &#x27;mapping&#x27;: No     1\n",
       "Yes    2\n",
       "NaN   -2\n",
       "dtype: int64},\n",
       "                        {&#x27;col&#x27;: &#x27;KidneyDisease&#x27;, &#x27;data_type&#x27;: dtype(&#x27;O&#x27;),\n",
       "                         &#x27;mapping&#x27;: No     1\n",
       "Yes    2\n",
       "NaN   -2\n",
       "dtype: int64},\n",
       "                        {&#x27;col&#x27;: &#x27;SkinCancer&#x27;, &#x27;data_type&#x27;: dtype(&#x27;O&#x27;),\n",
       "                         &#x27;mapping&#x27;: Yes    1\n",
       "No     2\n",
       "NaN   -2\n",
       "dtype: int64}])</pre></div></div></div><div class=\"sk-item\"><div class=\"sk-estimator sk-toggleable\"><input class=\"sk-toggleable__control sk-hidden--visually\" id=\"sk-estimator-id-3\" type=\"checkbox\" ><label for=\"sk-estimator-id-3\" class=\"sk-toggleable__label sk-toggleable__label-arrow\">LogisticRegression</label><div class=\"sk-toggleable__content\"><pre>LogisticRegression(class_weight=&#x27;balanced&#x27;, l1_ratio=0.01, n_jobs=-1,\n",
       "                   random_state=42)</pre></div></div></div></div></div></div></div>"
      ],
      "text/plain": [
       "Pipeline(steps=[('ordinalencoder',\n",
       "                 OrdinalEncoder(cols=['Smoking', 'AlcoholDrinking', 'Stroke',\n",
       "                                      'DiffWalking', 'Sex', 'AgeCategory',\n",
       "                                      'Race', 'Diabetic', 'PhysicalActivity',\n",
       "                                      'GenHealth', 'Asthma', 'KidneyDisease',\n",
       "                                      'SkinCancer'],\n",
       "                                mapping=[{'col': 'Smoking',\n",
       "                                          'data_type': dtype('O'),\n",
       "                                          'mapping': Yes    1\n",
       "No     2\n",
       "NaN   -2\n",
       "dtype: int64},\n",
       "                                         {'col': 'AlcoholDrinking',\n",
       "                                          'data_type': dtype('O'),\n",
       "                                          'map...\n",
       "dtype: int64},\n",
       "                                         {'col': 'Asthma',\n",
       "                                          'data_type': dtype('O'),\n",
       "                                          'mapping': No     1\n",
       "Yes    2\n",
       "NaN   -2\n",
       "dtype: int64},\n",
       "                                         {'col': 'KidneyDisease',\n",
       "                                          'data_type': dtype('O'),\n",
       "                                          'mapping': No     1\n",
       "Yes    2\n",
       "NaN   -2\n",
       "dtype: int64},\n",
       "                                         {'col': 'SkinCancer',\n",
       "                                          'data_type': dtype('O'),\n",
       "                                          'mapping': Yes    1\n",
       "No     2\n",
       "NaN   -2\n",
       "dtype: int64}])),\n",
       "                ('logisticregression',\n",
       "                 LogisticRegression(class_weight='balanced', l1_ratio=0.01,\n",
       "                                    n_jobs=-1, random_state=42))])"
      ]
     },
     "execution_count": 22,
     "metadata": {},
     "output_type": "execute_result"
    }
   ],
   "source": [
    "logipipe = Pipeline([('ordinalencoder', OrdinalEncoder()),\n",
    "                     ('logisticregression', LogisticRegression(\n",
    "                          random_state = 42, class_weight = \"balanced\",\n",
    "                          n_jobs = -1, l1_ratio = 0.01          \n",
    "                        ))])\n",
    "                  \n",
    "logipipe.fit(X_train, y_train)"
   ]
  },
  {
   "cell_type": "code",
   "execution_count": 23,
   "metadata": {},
   "outputs": [
    {
     "data": {
      "text/plain": [
       "0.7949894013836581"
      ]
     },
     "execution_count": 23,
     "metadata": {},
     "output_type": "execute_result"
    }
   ],
   "source": [
    "roc_auc_score(y_test, logipipe.predict_proba(X_test)[:,1])"
   ]
  },
  {
   "cell_type": "code",
   "execution_count": 26,
   "metadata": {},
   "outputs": [
    {
     "data": {
      "text/html": [
       "<div>\n",
       "<style scoped>\n",
       "    .dataframe tbody tr th:only-of-type {\n",
       "        vertical-align: middle;\n",
       "    }\n",
       "\n",
       "    .dataframe tbody tr th {\n",
       "        vertical-align: top;\n",
       "    }\n",
       "\n",
       "    .dataframe thead th {\n",
       "        text-align: right;\n",
       "    }\n",
       "</style>\n",
       "<table border=\"1\" class=\"dataframe\">\n",
       "  <thead>\n",
       "    <tr style=\"text-align: right;\">\n",
       "      <th></th>\n",
       "      <th>FPR(Fall-out)</th>\n",
       "      <th>TPR(Recall)</th>\n",
       "      <th>Threshold</th>\n",
       "    </tr>\n",
       "  </thead>\n",
       "  <tbody>\n",
       "    <tr>\n",
       "      <th>0</th>\n",
       "      <td>0.000000</td>\n",
       "      <td>0.000000</td>\n",
       "      <td>1.996554</td>\n",
       "    </tr>\n",
       "    <tr>\n",
       "      <th>1</th>\n",
       "      <td>0.000006</td>\n",
       "      <td>0.000000</td>\n",
       "      <td>0.996554</td>\n",
       "    </tr>\n",
       "    <tr>\n",
       "      <th>2</th>\n",
       "      <td>0.000006</td>\n",
       "      <td>0.000065</td>\n",
       "      <td>0.995944</td>\n",
       "    </tr>\n",
       "    <tr>\n",
       "      <th>3</th>\n",
       "      <td>0.000012</td>\n",
       "      <td>0.000065</td>\n",
       "      <td>0.995742</td>\n",
       "    </tr>\n",
       "    <tr>\n",
       "      <th>4</th>\n",
       "      <td>0.000012</td>\n",
       "      <td>0.000130</td>\n",
       "      <td>0.995410</td>\n",
       "    </tr>\n",
       "    <tr>\n",
       "      <th>...</th>\n",
       "      <td>...</td>\n",
       "      <td>...</td>\n",
       "      <td>...</td>\n",
       "    </tr>\n",
       "    <tr>\n",
       "      <th>33864</th>\n",
       "      <td>0.998881</td>\n",
       "      <td>0.999935</td>\n",
       "      <td>0.048204</td>\n",
       "    </tr>\n",
       "    <tr>\n",
       "      <th>33865</th>\n",
       "      <td>0.998894</td>\n",
       "      <td>0.999935</td>\n",
       "      <td>0.048175</td>\n",
       "    </tr>\n",
       "    <tr>\n",
       "      <th>33866</th>\n",
       "      <td>0.999763</td>\n",
       "      <td>0.999935</td>\n",
       "      <td>0.038862</td>\n",
       "    </tr>\n",
       "    <tr>\n",
       "      <th>33867</th>\n",
       "      <td>0.999763</td>\n",
       "      <td>1.000000</td>\n",
       "      <td>0.038772</td>\n",
       "    </tr>\n",
       "    <tr>\n",
       "      <th>33868</th>\n",
       "      <td>1.000000</td>\n",
       "      <td>1.000000</td>\n",
       "      <td>0.027442</td>\n",
       "    </tr>\n",
       "  </tbody>\n",
       "</table>\n",
       "<p>33869 rows × 3 columns</p>\n",
       "</div>"
      ],
      "text/plain": [
       "       FPR(Fall-out)  TPR(Recall)  Threshold\n",
       "0           0.000000     0.000000   1.996554\n",
       "1           0.000006     0.000000   0.996554\n",
       "2           0.000006     0.000065   0.995944\n",
       "3           0.000012     0.000065   0.995742\n",
       "4           0.000012     0.000130   0.995410\n",
       "...              ...          ...        ...\n",
       "33864       0.998881     0.999935   0.048204\n",
       "33865       0.998894     0.999935   0.048175\n",
       "33866       0.999763     0.999935   0.038862\n",
       "33867       0.999763     1.000000   0.038772\n",
       "33868       1.000000     1.000000   0.027442\n",
       "\n",
       "[33869 rows x 3 columns]"
      ]
     },
     "execution_count": 26,
     "metadata": {},
     "output_type": "execute_result"
    }
   ],
   "source": [
    "fpr, tpr, thresholds = roc_curve(y_train, logipipe.predict_proba(X_train)[:,1])\n",
    "\n",
    "roc = pd.DataFrame({\n",
    "    'FPR(Fall-out)': fpr, \n",
    "    'TPR(Recall)': tpr, \n",
    "    'Threshold': thresholds\n",
    "})\n",
    "roc"
   ]
  },
  {
   "cell_type": "code",
   "execution_count": 35,
   "metadata": {},
   "outputs": [
    {
     "data": {
      "image/png": "[encoded data removed]",
      "text/plain": [
       "<Figure size 432x288 with 1 Axes>"
      ]
     },
     "metadata": {
      "needs_background": "light"
     },
     "output_type": "display_data"
    }
   ],
   "source": [
    "plt.plot(fpr, tpr, label='Logistic Regression')\n",
    "#plt.axhline(0.5, color = 'orange')\n",
    "plt.title('ROC curve')\n",
    "plt.xlabel('FPR(Fall-out)')\n",
    "plt.ylabel('TPR(Recall)')\n",
    "plt.legend();"
   ]
  },
  {
   "cell_type": "markdown",
   "metadata": {},
   "source": [
    "ROC Curve는 여러 임계값에 대해 TPR(True Positive Rate, recall)과 FPR(False Positive Rate)을 그래프로 보여줍니다."
   ]
  },
  {
   "cell_type": "markdown",
   "metadata": {},
   "source": [
    "#### AUC\n",
    "- ROC 곡선 아래의 면적을 이용하면 분류 모델의 성능을 나타내는 지표를 구할 수 있습니다. 이를 **AUC(area under the curve)** 라고 합니다.\n",
    "- 일반적으로 AUC 값이 1에 가까울수록 성능이 좋은 모델이며 0.5에 가까울수록 성능이 안 좋은 모델입니다. \n",
    "\n",
    "<img src = \"https://drive.google.com/uc?id=1o1Wtk0CaozHiXH-AxAH1wjUbJjigUCno\" width = 500 height = 300>"
   ]
  },
  {
   "cell_type": "markdown",
   "metadata": {},
   "source": [
    "**Recall(재현율) = Sensitivity(민감도)** = ${\\displaystyle \\mathrm {TPR} ={\\frac {\\mathrm {TP} }{\\mathrm {P} }}={\\frac {\\mathrm {TP} }{\\mathrm {TP} +\\mathrm {FN} }}=1-\\mathrm {FNR} }$\n",
    "\n",
    "**Fall-out(위양성률)** = ${\\displaystyle \\mathrm {FPR} ={\\frac {\\mathrm {FP} }{\\mathrm {N} }}={\\frac {\\mathrm {FP} }{\\mathrm {FP} +\\mathrm {TN} }}=1-\\mathrm {TNR(Specificity)} }$\n",
    "\n",
    "- 재현율을 높이기 위해서는 Positive로 판단하는 임계값(threshold)을 계속 낮추어 모두 Positive로 판단하게 만들면 됩니다.하지만 이렇게 하면 동시에 Negative이지만 Positive로 판단하는 위양성률도 같이 높아집니다.\n",
    "    - 임계값이 1인 경우 TPR, FPR 모두 0이 됩니다. \n",
    "    - 임계값이 0인 경우 TPR, FPR 모두 1이 됩니다.  "
   ]
  },
  {
   "cell_type": "markdown",
   "metadata": {},
   "source": [
    "AUC는 Roc Curve 아래의 면적이라는 의미이지만 아래 그림을 통해 조금 더 깊게 이해해봅시다.  \n",
    "\n",
    "<img src = \"https://ifh.cc/g/QyBacs.jpg\" width=\"60%\">\n",
    "\n",
    "- 위의 그림에서 무작위로 Positive 샘플(green) 하나와 Negative 샘플(red) 하나를 뽑아봅시다.\n",
    "- 이 때 Positive 샘플의 예측값이 1에 가깝고 Negative 샘플의 예측값이 0에 가까울수록 좋은 모델일 것입니다.\n",
    "- AUC score는 모델이 Positive 샘플의 예측값을 Negative 샘플의 예측값보다 크게 줄 확률입니다.\n",
    "    - 위의 그림을 기준으로 생각하면 Positive 샘플을 더 오른쪽에 두고 Negative 샘플을 더 왼쪽에 둘 확률입니다.\n",
    "    - AUC score가 크다는 것은 Positive 샘플이 위의 그림에서 오른쪽에 있을 확률이 높다는 것이기 때문에 이 모델은 좋은 성능의 분류기라고 판단할 수 있습니다."
   ]
  }
 ],
 "metadata": {
  "kernelspec": {
   "display_name": "Python 3.10.0 64-bit",
   "language": "python",
   "name": "python3"
  },
  "language_info": {
   "codemirror_mode": {
    "name": "ipython",
    "version": 3
   },
   "file_extension": ".py",
   "mimetype": "text/x-python",
   "name": "python",
   "nbconvert_exporter": "python",
   "pygments_lexer": "ipython3",
   "version": "3.10.0"
  },
  "orig_nbformat": 4,
  "vscode": {
   "interpreter": {
    "hash": "369f2c481f4da34e4445cda3fffd2e751bd1c4d706f27375911949ba6bb62e1c"
   }
  }
 },
 "nbformat": 4,
 "nbformat_minor": 2
}
