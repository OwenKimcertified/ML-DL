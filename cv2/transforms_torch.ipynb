{
 "cells": [
  {
   "cell_type": "code",
   "execution_count": 1,
   "metadata": {},
   "outputs": [],
   "source": [
    "import torch\n",
    "import numpy as np"
   ]
  },
  {
   "cell_type": "markdown",
   "metadata": {},
   "source": [
    "### `transforms`"
   ]
  },
  {
   "cell_type": "code",
   "execution_count": 2,
   "metadata": {},
   "outputs": [],
   "source": [
    "class numtoten(object):\n",
    "    def __call__(self, dic_data):\n",
    "        label, input = dic_data['label'], dic_data['input']\n",
    "        \n",
    "        # img dim in numpy = (y, x, CH) , img dim in tensor = (CH, y, x)\n",
    "        label = label.transpose((2, 0, 1)).astype(np.float32)\n",
    "        input = input.transpose((2, 0, 1)).astype(np.float32)\n",
    "                            # numpy to tensor\n",
    "        data = {'label' : torch.from_numpy(label), 'input' : torch.from_numpy(input)}\n",
    "\n",
    "        return data\n",
    "\n",
    "class nomalizer(object):\n",
    "    def __init__(self, mean = 0.5, std = 0.5):\n",
    "        self.mean = mean\n",
    "        self.std = std\n",
    "\n",
    "    def __call__(self, dic_data):\n",
    "        label, input = dic_data['label'], dic_data['input']\n",
    "        input = (input - self.mean) / self.std\n",
    "        dic_data = {'label' : label, 'input' : input}\n",
    "\n",
    "        return dic_data\n",
    "\n",
    "class ranflip(object):\n",
    "    def __call__(self, dic_data):\n",
    "        label, input = dic_data['label'], dic_data['input']\n",
    "\n",
    "        if np.random.rand() > 0.5:\n",
    "            label = np.fliplr(label)\n",
    "            input = np.fliplr(input)\n",
    "\n",
    "        if np.random.rand() > 0.5:\n",
    "            label = np.flipud(label)\n",
    "            input = np.flipud(input)\n",
    "\n",
    "        dic_data = {'label' : label, 'input' : input}\n",
    "\n",
    "        return dic_data"
   ]
  }
 ],
 "metadata": {
  "kernelspec": {
   "display_name": "Python 3.8.0 ('deeplearning')",
   "language": "python",
   "name": "python3"
  },
  "language_info": {
   "codemirror_mode": {
    "name": "ipython",
    "version": 3
   },
   "file_extension": ".py",
   "mimetype": "text/x-python",
   "name": "python",
   "nbconvert_exporter": "python",
   "pygments_lexer": "ipython3",
   "version": "3.8.0"
  },
  "orig_nbformat": 4,
  "vscode": {
   "interpreter": {
    "hash": "4c8f46a1faa65f2d37ffc4d337c572e84eb0a0eb34c464f3ede6312da8342375"
   }
  }
 },
 "nbformat": 4,
 "nbformat_minor": 2
}
