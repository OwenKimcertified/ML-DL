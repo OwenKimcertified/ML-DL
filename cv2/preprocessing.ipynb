{
 "cells": [
  {
   "cell_type": "code",
   "execution_count": 2,
   "metadata": {},
   "outputs": [],
   "source": [
    "import os\n",
    "import numpy as np\n",
    "import matplotlib.pyplot as plt\n",
    "from PIL import Image"
   ]
  },
  {
   "cell_type": "code",
   "execution_count": 3,
   "metadata": {},
   "outputs": [],
   "source": [
    "dir_data = 'C:\\\\Users\\\\admin\\\\Desktop\\\\workspace\\\\data file\\\\data'\n",
    "\n",
    "name_label = 'C:\\\\Users\\\\admin\\\\Desktop\\\\workspace\\\\data file\\\\data\\\\train-labels.tif'\n",
    "name_input = 'C:\\\\Users\\\\admin\\\\Desktop\\\\workspace\\\\data file\\\\data\\\\train-volume.tif'\n",
    "\n",
    "img_label = Image.open(os.path.join(dir_data, name_label))\n",
    "img_input = Image.open(os.path.join(dir_data, name_input))\n",
    "\n",
    "# ny, nx 이미지의 x, y 사이즈, 프레임 수\n",
    "y, x = img_label.size\n",
    "frame = img_label.n_frames"
   ]
  },
  {
   "cell_type": "code",
   "execution_count": 4,
   "metadata": {},
   "outputs": [
    {
     "data": {
      "text/plain": [
       "(512, 512, 30)"
      ]
     },
     "execution_count": 4,
     "metadata": {},
     "output_type": "execute_result"
    }
   ],
   "source": [
    "y, x, frame"
   ]
  },
  {
   "cell_type": "code",
   "execution_count": 5,
   "metadata": {},
   "outputs": [],
   "source": [
    "frame_train = 24\n",
    "frame_val = 3\n",
    "frame_test = 3\n",
    "\n",
    "dir_save_train = os.path.join(dir_data, 'train')\n",
    "dir_save_val = os.path.join(dir_data, 'val')\n",
    "dir_save_test = os.path.join(dir_data, 'test')\n",
    "\n",
    "if not os.path.exists(dir_save_train):\n",
    "    os.mkdir(dir_save_train)\n",
    "\n",
    "if not os.path.exists(dir_save_val):\n",
    "    os.mkdir(dir_save_val)\n",
    "\n",
    "if not os.path.exists(dir_save_test):\n",
    "    os.mkdir(dir_save_test)    \n",
    "\n",
    "# def mkdir_(path):\n",
    "#     if not os.path.exists(path):\n",
    "#         return os.mkdir(path)"
   ]
  },
  {
   "cell_type": "code",
   "execution_count": 9,
   "metadata": {},
   "outputs": [],
   "source": [
    "idx_frame = np.arange(frame)\n",
    "np.random.shuffle(idx_frame)\n",
    "\n",
    "offset = 0\n",
    "\n",
    "for i in range(frame_train):\n",
    "    img_label.seek(idx_frame[i + offset])\n",
    "    img_input.seek(idx_frame[i + offset])\n",
    "\n",
    "    label_ = np.asarray(img_label)\n",
    "    input_ = np.asarray(img_input)\n",
    "\n",
    "    np.save(os.path.join(dir_save_train, 'label_%03d.npy' % i), label_)\n",
    "    np.save(os.path.join(dir_save_train, 'input_%03d.npy' % i), input_) \n",
    "\n",
    "offset += frame_train\n",
    "\n",
    "for i in range(frame_val):\n",
    "    img_label.seek(idx_frame[i + offset])\n",
    "    img_input.seek(idx_frame[i + offset])\n",
    "\n",
    "    label_ = np.asarray(img_label)\n",
    "    input_ = np.asarray(img_input)\n",
    "\n",
    "    np.save(os.path.join(dir_save_val, 'label_%03d.npy' % i), label_)\n",
    "    np.save(os.path.join(dir_save_val, 'input_%03d.npy' % i), input_) \n",
    "\n",
    "offset += frame_val\n",
    "\n",
    "for i in range(frame_test):\n",
    "    img_label.seek(idx_frame[i + offset])\n",
    "    img_input.seek(idx_frame[i + offset])\n",
    "\n",
    "    label_ = np.asarray(img_label)\n",
    "    input_ = np.asarray(img_input)\n",
    "\n",
    "    np.save(os.path.join(dir_save_test, 'label_%03d.npy' % i), label_)\n",
    "    np.save(os.path.join(dir_save_test, 'input_%03d.npy' % i), input_) "
   ]
  }
 ],
 "metadata": {
  "kernelspec": {
   "display_name": "Python 3.8.0 ('deeplearning')",
   "language": "python",
   "name": "python3"
  },
  "language_info": {
   "codemirror_mode": {
    "name": "ipython",
    "version": 3
   },
   "file_extension": ".py",
   "mimetype": "text/x-python",
   "name": "python",
   "nbconvert_exporter": "python",
   "pygments_lexer": "ipython3",
   "version": "3.8.0"
  },
  "orig_nbformat": 4,
  "vscode": {
   "interpreter": {
    "hash": "4c8f46a1faa65f2d37ffc4d337c572e84eb0a0eb34c464f3ede6312da8342375"
   }
  }
 },
 "nbformat": 4,
 "nbformat_minor": 2
}
